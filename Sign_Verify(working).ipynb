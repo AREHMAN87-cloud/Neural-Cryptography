{
  "cells": [
    {
      "cell_type": "markdown",
      "metadata": {
        "id": "sDzROYDG6iNL"
      },
      "source": [
        "# Applying Convolutional Neural Networks to Cryptography for Digital Signing/Verification"
      ]
    },
    {
      "cell_type": "markdown",
      "metadata": {
        "id": "YYibtf8X6iNM"
      },
      "source": [
        "### ABDUR REHMAN FA22-BCE-011"
      ]
    },
    {
      "cell_type": "code",
      "execution_count": 2,
      "metadata": {
        "jupyter": {
          "outputs_hidden": false
        },
        "id": "zHkmhGcA6iNN"
      },
      "outputs": [],
      "source": [
        "import numpy as np\n",
        "import tensorflow as tf\n",
        "import pandas as pd\n",
        "import math\n",
        "import matplotlib.pyplot as plt\n",
        "import seaborn as sns\n",
        "import socket\n",
        "import sys\n",
        "import pickle\n"
      ]
    },
    {
      "cell_type": "markdown",
      "metadata": {
        "id": "4aSh_SD16iNN"
      },
      "source": [
        "## Parameter Initialization"
      ]
    },
    {
      "cell_type": "code",
      "execution_count": 5,
      "metadata": {
        "jupyter": {
          "outputs_hidden": false
        },
        "id": "PjjW97si6iNN"
      },
      "outputs": [],
      "source": [
        "crypto_msg_len = N = 16\n",
        "crypto_key_len = 16\n",
        "batch_size = 512\n",
        "epochs = 1 #50\n",
        "learning_rate = 0.0008 #Optimizer learning rate\n",
        "\n",
        "# Function to generate n random messages and keys\n",
        "def gen_data(n=batch_size, msg_len=crypto_msg_len, key_len=crypto_key_len):\n",
        "    #return (np.random.randint(0, 2, size=(n, msg_len))*2-1), (np.random.randint(0, 2, size=(n, key_len))*2-1)\n",
        "    return (np.random.randint(0, 2, size=(n, msg_len))), (np.random.randint(0, 2, size=(n, key_len)))\n",
        "\n",
        "\n"
      ]
    },
    {
      "cell_type": "code",
      "execution_count": 3,
      "metadata": {
        "jupyter": {
          "outputs_hidden": false
        },
        "id": "7jgFxBqN6iNO"
      },
      "outputs": [],
      "source": [
        "def conv1d(input_, filter_shape, stride, name=\"conv1d\"):\n",
        "    with tf.compat.v1.variable_scope(name): # Changed tf.variable_scope to tf.compat.v1.variable_scope\n",
        "        w = tf.compat.v1.get_variable('w', shape=filter_shape, initializer=tf.compat.v1.glorot_uniform_initializer()) # Updated initializer and get_variable\n",
        "        conv = tf.nn.conv1d(input_, w, stride, padding='SAME')\n",
        "        return conv"
      ]
    },
    {
      "cell_type": "markdown",
      "metadata": {
        "id": "BtCl9Bpb6iNO"
      },
      "source": [
        "## Neural Cryptography Model definition"
      ]
    },
    {
      "cell_type": "code",
      "execution_count": 6,
      "metadata": {
        "jupyter": {
          "outputs_hidden": false
        },
        "id": "k0GJo-iY6iNO"
      },
      "outputs": [],
      "source": [
        "#If using TensorFlow 2.x, enable v1 compatibility:\n",
        "tf.compat.v1.disable_eager_execution()\n",
        "\n",
        "# Placeholder variables for Message and Key\n",
        "msg = tf.compat.v1.placeholder(\"float\", [None, crypto_msg_len])\n",
        "key = tf.compat.v1.placeholder(\"float\", [None, crypto_key_len])\n",
        "\n",
        "# Weights for fully connected layers - using tf.compat.v1.get_variable for compatibility\n",
        "with tf.compat.v1.variable_scope(\"weights\", reuse=tf.compat.v1.AUTO_REUSE):  # Added variable scope with reuse\n",
        "    w_alice = tf.compat.v1.get_variable(\"alice_w\", shape=[2 * N, 2 * N], initializer=tf.compat.v1.glorot_uniform_initializer())\n",
        "    w_bob = tf.compat.v1.get_variable(\"bob_w\", shape=[2 * N, 2 * N], initializer=tf.compat.v1.glorot_uniform_initializer()) # Updated initializer for TF 1.x\n",
        "    w_eve1 = tf.compat.v1.get_variable(\"eve_w1\", shape=[N, 2 * N], initializer=tf.compat.v1.glorot_uniform_initializer()) # Updated initializer for TF 1.x\n",
        "    w_eve2 = tf.compat.v1.get_variable(\"eve_w2\", shape=[2 * N, 2 * N], initializer=tf.compat.v1.glorot_uniform_initializer()) # Updated initializer for TF 1.x\n",
        "\n",
        "# Alice's Machine Network\n",
        "# FC layer -> Conv Layer (4 1-D convolutions)\n",
        "alice_input = tf.compat.v1.concat([msg, key], axis=1) # Changed tf.concat to tf.compat.v1.concat and using axis\n",
        "alice_hidden = tf.nn.sigmoid(tf.matmul(alice_input, w_alice))\n",
        "alice_hidden = tf.expand_dims(alice_hidden, 2)\n",
        "\n",
        "h0 = tf.nn.relu(conv1d(alice_hidden, [4, 1, 2], stride=1, name=\"alice\" + '_h0_conv'))\n",
        "h1 = tf.nn.relu(conv1d(h0, [2, 2, 4], stride=2, name=\"alice\" + '_h1_conv'))\n",
        "h2_alice = tf.nn.relu(conv1d(h1, [1, 4, 4], stride=1, name=\"alice\" + '_h2_conv'))\n",
        "h3 = tf.nn.tanh(conv1d(h2_alice, [1, 4, 1], stride=1, name=\"alice\" + '_h3_conv'))\n",
        "alice_output = tf.squeeze(h3) # eliminate dimensions of size 1 from the shape of a tensor\n",
        "\n",
        "# Bob's Machine Network (gets the output (cipher text) of Alice's network)\n",
        "# FC layer -> Conv Layer (4 1-D convolutions)\n",
        "bob_input = tf.compat.v1.concat([msg, key], axis=1) # Changed tf.concat to tf.compat.v1.concat and using axis\n",
        "bob_hidden = tf.nn.sigmoid(tf.matmul(bob_input, w_bob))\n",
        "bob_hidden = tf.expand_dims(bob_hidden, 2)\n",
        "\n",
        "h0 = tf.nn.relu(conv1d(bob_hidden, [4, 1, 2], stride=1, name=\"bob\" + '_h0_conv'))\n",
        "h1 = tf.nn.relu(conv1d(h0, [2, 2, 4], stride=2, name=\"bob\" + '_h1_conv'))\n",
        "h2_bob = tf.nn.relu(conv1d(h1, [1, 4, 4], stride=1, name=\"bob\" + '_h2_conv'))\n",
        "h3 = tf.nn.tanh(conv1d(h2_bob, [1, 4, 1], stride=1, name=\"bob\" + '_h3_conv'))\n",
        "bob_output = tf.squeeze(h3) # eliminate dimensions of size 1 from the shape of a tensor\n",
        "\n",
        "# Eve's Machine Network\n",
        "# FC layer -> FC layer -> Conv Layer (4 1-D convolutions)\n",
        "eve_input = alice_output\n",
        "eve_hidden1 = tf.nn.sigmoid(tf.matmul(eve_input, w_eve1))\n",
        "eve_hidden2 = tf.nn.sigmoid(tf.matmul(eve_hidden1, w_eve2))\n",
        "eve_hidden2 = tf.expand_dims(eve_hidden2, 2)\n",
        "\n",
        "h0 = tf.nn.relu(conv1d(eve_hidden2, [4, 1, 2], stride=1, name=\"eve\" + '_h0_conv'))\n",
        "h1 = tf.nn.relu(conv1d(h0, [2, 2, 4], stride=2, name=\"eve\" + '_h1_conv'))\n",
        "h2 = tf.nn.relu(conv1d(h1, [1, 4, 4], stride=1, name=\"eve\" + '_h2_conv'))\n",
        "h3 = tf.nn.tanh(conv1d(h2, [1, 4, 1], stride=1, name=\"eve\" + '_h3_conv'))\n",
        "eve_output = tf.squeeze(h3)"
      ]
    },
    {
      "cell_type": "markdown",
      "metadata": {
        "id": "mBT-5WAW6iNP"
      },
      "source": [
        "## Neural Cryptography Training"
      ]
    },
    {
      "cell_type": "code",
      "execution_count": 18,
      "metadata": {
        "jupyter": {
          "outputs_hidden": false
        },
        "id": "VKdmM3W66iNP"
      },
      "outputs": [],
      "source": [
        "alice_errors, bob_errors, eve_errors = [], [], []\n",
        "\n",
        "# Loss Functions\n",
        "decrypt_err_eve = tf.reduce_mean(tf.abs(msg - eve_output))\n",
        "decrypt_err_alice = tf.reduce_mean(tf.abs(msg - alice_output))\n",
        "loss_alice = decrypt_err_alice + (1. - decrypt_err_eve) ** 2.\n",
        "decrypt_err_bob = tf.reduce_mean(tf.abs(msg - bob_output))\n",
        "loss_bob = decrypt_err_bob + (1. - decrypt_err_eve) ** 2.\n",
        "\n",
        "# Get training variables corresponding to each network\n",
        "t_vars = tf.compat.v1.trainable_variables() # Use tf.compat.v1.trainable_variables() for TF 1.x compatibility\n",
        "alice_vars = [var for var in t_vars if 'alice_' in var.name]\n",
        "bob_vars =   [var for var in t_vars if 'bob_' in var.name]\n",
        "eve_vars =   [var for var in t_vars if 'eve_' in var.name]\n",
        "\n",
        "# Build the optimizers, can play with different optimizers\n",
        "\n",
        "'''\n",
        "alice_optimizer = tf.train.AdagradOptimizer(learning_rate, initial_accumulator_value=0.1,\n",
        "                       use_locking=False, name='Adagrad').minimize(loss_alice, var_list=alice_vars)\n",
        "bob_optimizer = tf.train.AdagradOptimizer(learning_rate, initial_accumulator_value=0.1,\n",
        "                        use_locking=False, name='Adagrad').minimize(loss_bob, var_list=bob_vars)\n",
        "eve_optimizer = tf.train.AdagradOptimizer(learning_rate, initial_accumulator_value=0.1,\n",
        "                        use_locking=False, name='Adagrad').minimize(decrypt_err_eve, var_list=eve_vars)\n",
        "\n",
        "alice_optimizer = tf.train.MomentumOptimizer(0.01, 0.9).minimize(loss_alice, var_list=alice_vars)\n",
        "bob_optimizer = tf.train.MomentumOptimizer(0.01, 0.9).minimize(loss_bob, var_list=bob_vars)\n",
        "eve_optimizer = tf.train.MomentumOptimizer(0.01, 0.9).minimize(decrypt_err_eve, var_list=eve_vars)\n",
        "\n",
        "'''\n",
        "# Use tf.compat.v1.train.AdamOptimizer for TensorFlow 1.x compatibility\n",
        "alice_optimizer = tf.compat.v1.train.AdamOptimizer(learning_rate).minimize(loss_alice, var_list=alice_vars)\n",
        "bob_optimizer = tf.compat.v1.train.AdamOptimizer(learning_rate).minimize(loss_bob, var_list=bob_vars)\n",
        "eve_optimizer = tf.compat.v1.train.AdamOptimizer(learning_rate).minimize(decrypt_err_eve, var_list=eve_vars)\n",
        "\n",
        "def train(sess):\n",
        "    # Begin Training\n",
        "    #tf.initialize_all_variables().run(session=sess)\n",
        "    sess.run(tf.compat.v1.global_variables_initializer()) # Use tf.compat.v1.global_variables_initializer() and sess.run()\n",
        "    for i in range(epochs):\n",
        "        iterations = 2000\n",
        "\n",
        "        alice_loss, _, _ = _train('alice', iterations, sess)\n",
        "        alice_errors.append(alice_loss)\n",
        "        print( 'Training Alice, Epoch:', i + 1, ' error: ', alice_loss)\n",
        "\n",
        "        _, bob_loss, _ = _train('bob', iterations, sess)\n",
        "        bob_errors.append(bob_loss)\n",
        "        print( 'Training Bob, Epoch:', i + 1, ' error: ', bob_loss)\n",
        "\n",
        "        _, _, eve_loss = _train('eve', iterations, sess)\n",
        "        eve_errors.append(eve_loss)\n",
        "        print( 'Training Eve, Epoch:', i + 1, ' error: ', eve_loss)\n",
        "\n",
        "\n",
        "def _train(network, iterations, sess):\n",
        "    alice_decrypt_error, bob_decrypt_error, eve_decrypt_error = 1., 1., 1.\n",
        "\n",
        "    bs = batch_size\n",
        "    # Train Eve for two minibatches to give it a slight computational edge\n",
        "    if network == 'eve':\n",
        "        bs *= 2\n",
        "\n",
        "    for i in range(iterations):\n",
        "        msg_in_val, key_val = gen_data(n=bs, msg_len=crypto_msg_len, key_len=crypto_key_len)\n",
        "        feed_dict={msg: msg_in_val, key: key_val}\n",
        "        if network == 'alice':\n",
        "            _, decrypt_err = sess.run([alice_optimizer, decrypt_err_alice], feed_dict = feed_dict)\n",
        "            alice_decrypt_error = min(alice_decrypt_error, decrypt_err)\n",
        "        elif network == 'bob':\n",
        "            _, decrypt_err = sess.run([bob_optimizer, decrypt_err_bob], feed_dict = feed_dict)\n",
        "            bob_decrypt_error = min(bob_decrypt_error, decrypt_err)\n",
        "        elif network == 'eve':\n",
        "            _, decrypt_err = sess.run([eve_optimizer, decrypt_err_eve], feed_dict = feed_dict)\n",
        "            eve_decrypt_error = min(eve_decrypt_error, decrypt_err)\n",
        "\n",
        "    return alice_decrypt_error, bob_decrypt_error, eve_decrypt_error\n"
      ]
    },
    {
      "cell_type": "markdown",
      "metadata": {
        "id": "duUB6hAw6iNQ"
      },
      "source": [
        "## Neural Cryptography Testing Helper Functions"
      ]
    },
    {
      "cell_type": "markdown",
      "metadata": {
        "id": "_XDBOX1g6iNQ"
      },
      "source": [
        "This section of the code takes input and prepares it for the socket communication"
      ]
    },
    {
      "cell_type": "code",
      "execution_count": 21,
      "metadata": {
        "jupyter": {
          "outputs_hidden": false
        },
        "colab": {
          "base_uri": "https://localhost:8080/"
        },
        "id": "tfjLQJKA6iNQ",
        "outputId": "ff30a920-673b-48d3-abf2-4c40de4d2aa4"
      },
      "outputs": [
        {
          "output_type": "stream",
          "name": "stdout",
          "text": [
            "Enter some text: Hi Alice What's good hows ur day!\n",
            "01001000 01101001 00100000 01000001 01101100 01101001 01100011 01100101 00100000 01010111 01101000 01100001 01110100 00100111 01110011 00100000 01100111 01101111 01101111 01100100 00100000 01101000 01101111 01110111 01110011 00100000 01110101 01110010 00100000 01100100 01100001 01111001 00100001\n",
            "plaintext_to_Alice =  [[0. 1. 0. 0. 1. 0. 0. 0. 0. 1. 1. 0. 1. 0. 0. 1.]\n",
            " [0. 0. 1. 0. 0. 0. 0. 0. 0. 1. 0. 0. 0. 0. 0. 1.]\n",
            " [0. 1. 1. 0. 1. 1. 0. 0. 0. 1. 1. 0. 1. 0. 0. 1.]\n",
            " [0. 1. 1. 0. 0. 0. 1. 1. 0. 1. 1. 0. 0. 1. 0. 1.]\n",
            " [0. 0. 1. 0. 0. 0. 0. 0. 0. 1. 0. 1. 0. 1. 1. 1.]\n",
            " [0. 1. 1. 0. 1. 0. 0. 0. 0. 1. 1. 0. 0. 0. 0. 1.]\n",
            " [0. 1. 1. 1. 0. 1. 0. 0. 0. 0. 1. 0. 0. 1. 1. 1.]\n",
            " [0. 1. 1. 1. 0. 0. 1. 1. 0. 0. 1. 0. 0. 0. 0. 0.]\n",
            " [0. 1. 1. 0. 0. 1. 1. 1. 0. 1. 1. 0. 1. 1. 1. 1.]\n",
            " [0. 1. 1. 0. 1. 1. 1. 1. 0. 1. 1. 0. 0. 1. 0. 0.]\n",
            " [0. 0. 1. 0. 0. 0. 0. 0. 0. 1. 1. 0. 1. 0. 0. 0.]\n",
            " [0. 1. 1. 0. 1. 1. 1. 1. 0. 1. 1. 1. 0. 1. 1. 1.]\n",
            " [0. 1. 1. 1. 0. 0. 1. 1. 0. 0. 1. 0. 0. 0. 0. 0.]\n",
            " [0. 1. 1. 1. 0. 1. 0. 1. 0. 1. 1. 1. 0. 0. 1. 0.]\n",
            " [0. 0. 1. 0. 0. 0. 0. 0. 0. 1. 1. 0. 0. 1. 0. 0.]\n",
            " [0. 1. 1. 0. 0. 0. 0. 1. 0. 1. 1. 1. 1. 0. 0. 1.]\n",
            " [0. 0. 1. 0. 0. 0. 0. 1. 0. 0. 0. 0. 0. 0. 0. 0.]]\n"
          ]
        }
      ],
      "source": [
        "text = input('Enter some text: ')\n",
        "bintext = ' '.join('{0:08b}'.format(ord(x), 'b') for x in text)\n",
        "print (bintext)\n",
        "b1  = bintext.replace(\" \", \"\")\n",
        "#b1 = b1.zfill(48)\n",
        "pad = len(b1)%16\n",
        "\n",
        "v1 = np.array([])\n",
        "for i in range(0, len(b1)):\n",
        "    v1 = np.append(v1, int(b1[i]))\n",
        "\n",
        "#apply the padding\n",
        "for i in range(0, pad):\n",
        "    v1 = np.append(v1, int(0))\n",
        "total_len = len(b1) + pad\n",
        "\n",
        "plaintext_to_Alice = v1.reshape(int(total_len/16), 16)\n",
        "print('plaintext_to_Alice = ', plaintext_to_Alice)"
      ]
    },
    {
      "cell_type": "markdown",
      "metadata": {
        "id": "3Nnhu-G-6iNQ"
      },
      "source": [
        "## Socket Communication"
      ]
    },
    {
      "cell_type": "markdown",
      "metadata": {
        "id": "zi3eM63G6iNQ"
      },
      "source": [
        "We are sending the message as Alice to Bob"
      ]
    },
    {
      "cell_type": "code",
      "execution_count": 24,
      "metadata": {
        "collapsed": true,
        "jupyter": {
          "outputs_hidden": true
        },
        "id": "rs5CufVv6iNR"
      },
      "outputs": [],
      "source": [
        "def sock_send(message):\n",
        "    # Create a TCP/IP socket\n",
        "    sock = socket.socket(socket.AF_INET, socket.SOCK_STREAM)\n",
        "    server_address = ('localhost', 10000)\n",
        "    sock.connect(server_address)\n",
        "    #To send data over network, you need to serialize it into an array of bytes,\n",
        "    #then deserialize it back. In Python, serialization of most objects can be done via pickle module:\n",
        "    print('message = ', message)\n",
        "    msg2 = pickle.dumps(message)\n",
        "    #print('msg2 = ', msg2)\n",
        "    sock.send(msg2)"
      ]
    },
    {
      "cell_type": "code",
      "execution_count": 25,
      "metadata": {
        "jupyter": {
          "outputs_hidden": false
        },
        "colab": {
          "base_uri": "https://localhost:8080/"
        },
        "id": "VAhOIMap6iNR",
        "outputId": "b56861de-4b2e-46d7-9e19-3e8c2e5cc040"
      },
      "outputs": [
        {
          "output_type": "stream",
          "name": "stdout",
          "text": [
            "starting up on localhost port 10000\n"
          ]
        }
      ],
      "source": [
        "\n",
        "def sock_recv_init():\n",
        "    # Create a TCP/IP socket\n",
        "    sock = socket.socket(socket.AF_INET, socket.SOCK_STREAM)\n",
        "    # Bind the socket to the port\n",
        "    address = ('localhost', 10000)\n",
        "    print('starting up on %s port %s' % address)\n",
        "    sock.bind(address)\n",
        "    # Listen for incoming connections\n",
        "    sock.listen(1)\n",
        "    return sock\n",
        "\n",
        "def sock_recv(sock):\n",
        "    # Wait for a connection\n",
        "    print( 'waiting for a connection')\n",
        "    connection, client_address = sock.accept()\n",
        "    print('connection from', client_address)\n",
        "    # Receive the data (max 48 bytes)\n",
        "    data = connection.recv(1024*10)\n",
        "    #print('received \"%s\"' % data)\n",
        "    data1 = pickle.loads(data)\n",
        "    print('received ', data1)\n",
        "    return data1\n",
        "\n",
        "sock = sock_recv_init()\n"
      ]
    },
    {
      "cell_type": "code",
      "execution_count": 26,
      "metadata": {
        "jupyter": {
          "outputs_hidden": false
        },
        "id": "_gAEL7to6iNR"
      },
      "outputs": [],
      "source": [
        "\n",
        "test_file_msg = \"testmsg.txt\"\n",
        "test_file_keys = \"testkey.txt\"\n",
        "alice_output_sign = 0\n",
        "\n",
        "def test(network, sess):\n",
        "        alice_decrypt_error, bob_decrypt_error, eve_decrypt_error = 1., 1., 1.\n",
        "        alice_encrypt_time = 0\n",
        "        bob_decrypt_time = 0\n",
        "        bob_output_1 = 0\n",
        "        alice_h2_conv_1 = 0\n",
        "        bob_h2_conv_1 = 0\n",
        "        #bs = 3 #batch_size\n",
        "        bs = int(total_len/16) #batch_size\n",
        "        messages, keys = gen_data(n=bs, msg_len=crypto_msg_len, key_len=crypto_key_len)\n",
        "        #test message to get the code complete\n",
        "        messages = np.array([\n",
        "                    [1, 0, 0, 1, 0, 0, 0, 1, 1, 0, 0, 1, 0, 1, 1, 1],\n",
        "                    [0, 1, 1, 0, 0, 1, 1, 0, 1, 1, 0, 0, 1, 1, 0, 1],\n",
        "                    [1, 1, 1, 1, 0, 1, 1, 0, 0, 1, 0, 0, 0, 0, 0, 1]\n",
        "                   ])\n",
        "\n",
        "\n",
        "        #feed_dict={msg: messages, key: keys}\n",
        "        feed_dict={msg: plaintext_to_Alice, key: keys}\n",
        "\n",
        "        print( 'messages = \\n', plaintext_to_Alice)\n",
        "        print( 'keys = \\n', keys)\n",
        "\n",
        "        if network == 'alice':\n",
        "            print('plaintext_to_Alice = ', plaintext_to_Alice)\n",
        "            start_time = time.time()\n",
        "            _, decrypt_err, alice_output_1, alice_h2_conv_1  = sess.run([alice_optimizer, decrypt_err_alice, alice_output, alice_hidden], feed_dict = feed_dict)\n",
        "            end_time = time.time()\n",
        "            alice_encrypt_time = end_time-start_time\n",
        "            global alice_output_sign\n",
        "            alice_output_sign = alice_output_1\n",
        "            print('test alice_output (Signature) = \\n', alice_output_1)\n",
        "            alice_decrypt_error = min(alice_decrypt_error, decrypt_err)\n",
        "            print('SOCK_SEND')\n",
        "            sock_send(alice_output_1)\n",
        "        elif network == 'bob':\n",
        "            print('SOCKET_RECV ==== \\n')\n",
        "            messages_sock = sock_recv(sock)\n",
        "            print(messages_sock)\n",
        "            feed_dict1 = {msg: messages_sock, key: keys}\n",
        "            start_time = time.time()\n",
        "            _, decrypt_err, bob_input_1, bob_output_1, bob_h2_conv_1 = sess.run([bob_optimizer, decrypt_err_bob, bob_input, bob_output, bob_hidden], feed_dict = feed_dict1)\n",
        "            end_time = time.time()\n",
        "            bob_decrypt_time = end_time-start_time\n",
        "            bob_input_1 = np.round(bob_input_1, 2)\n",
        "            bob_ouput_1 = np.round(bob_output_1, 2)\n",
        "\n",
        "            print('test bob_input = \\n', bob_input_1)\n",
        "            print('test bob_output = \\n',  bob_output_1)\n",
        "            bob_decrypt_error = min(bob_decrypt_error, decrypt_err)\n",
        "        elif network == 'eve':\n",
        "            _, decrypt_err = sess.run([eve_optimizer, decrypt_err_eve], feed_dict = feed_dict)\n",
        "            eve_decrypt_error = min(eve_decrypt_error, decrypt_err)\n",
        "\n",
        "        return alice_decrypt_error, alice_encrypt_time, alice_h2_conv_1, bob_decrypt_error, bob_decrypt_time, bob_output_1, bob_h2_conv_1, eve_decrypt_error"
      ]
    },
    {
      "cell_type": "code",
      "execution_count": 14,
      "metadata": {
        "jupyter": {
          "outputs_hidden": false
        },
        "id": "bEwX8K7j6iNR"
      },
      "outputs": [],
      "source": [
        "\n",
        "\n",
        "%matplotlib inline\n",
        "\n",
        "def plot_results():\n",
        "    \"\"\"\n",
        "    Plot Lowest Errors achieved by Alice, Bob, and Eve per epoch\n",
        "    \"\"\"\n",
        "    sns.set_style(\"darkgrid\")\n",
        "    plt.plot(alice_errors)\n",
        "    plt.plot(bob_errors)\n",
        "    plt.plot(eve_errors)\n",
        "    plt.legend(['alice', 'bob', 'eve'])\n",
        "    plt.xlabel('Epoch')\n",
        "    plt.ylabel('Lowest error achieved')\n",
        "    plt.show()"
      ]
    },
    {
      "cell_type": "markdown",
      "metadata": {
        "collapsed": false,
        "jupyter": {
          "outputs_hidden": false
        },
        "id": "9OqDmX1P6iNR"
      },
      "source": [
        "# TensorFlow Session"
      ]
    },
    {
      "cell_type": "markdown",
      "metadata": {
        "id": "CzzMv4GH6iNS"
      },
      "source": [
        "## Training"
      ]
    },
    {
      "cell_type": "code",
      "execution_count": 19,
      "metadata": {
        "jupyter": {
          "outputs_hidden": false
        },
        "colab": {
          "base_uri": "https://localhost:8080/",
          "height": 1000
        },
        "id": "IcagS4vI6iNS",
        "outputId": "c7830e28-e000-4737-b259-040a941ef161"
      },
      "outputs": [
        {
          "output_type": "stream",
          "name": "stdout",
          "text": [
            "Starting Training Process... \n",
            "Training Alice, Epoch: 1  error:  0.0005021254\n",
            "Training Bob, Epoch: 1  error:  0.00026928776\n",
            "Training Eve, Epoch: 1  error:  0.3349837\n",
            "Training Alice, Epoch: 2  error:  0.0005860837\n",
            "Training Bob, Epoch: 2  error:  3.727947e-05\n",
            "Training Eve, Epoch: 2  error:  0.33360314\n",
            "Training Alice, Epoch: 3  error:  0.0016419843\n",
            "Training Bob, Epoch: 3  error:  9.530711e-06\n",
            "Training Eve, Epoch: 3  error:  0.3334459\n",
            "Training Alice, Epoch: 4  error:  0.034017053\n",
            "Training Bob, Epoch: 4  error:  3.1218005e-06\n",
            "Training Eve, Epoch: 4  error:  0.34765533\n",
            "Training Alice, Epoch: 5  error:  0.01999372\n",
            "Training Bob, Epoch: 5  error:  8.494608e-07\n",
            "Training Eve, Epoch: 5  error:  0.3767656\n",
            "Training Alice, Epoch: 6  error:  0.0008766799\n",
            "Training Bob, Epoch: 6  error:  2.4515612e-07\n",
            "Training Eve, Epoch: 6  error:  0.33264187\n",
            "Training Alice, Epoch: 7  error:  4.196424e-06\n",
            "Training Bob, Epoch: 7  error:  8.291681e-08\n",
            "Training Eve, Epoch: 7  error:  0.33294684\n",
            "Training Alice, Epoch: 8  error:  1.563657e-06\n",
            "Training Bob, Epoch: 8  error:  2.6862836e-08\n",
            "Training Eve, Epoch: 8  error:  0.33221436\n",
            "Training Alice, Epoch: 9  error:  3.1315852e-07\n",
            "Training Bob, Epoch: 9  error:  9.487849e-09\n",
            "Training Eve, Epoch: 9  error:  0.3312378\n",
            "Training Alice, Epoch: 10  error:  9.4500336e-08\n",
            "Training Bob, Epoch: 10  error:  3.5070116e-09\n",
            "Training Eve, Epoch: 10  error:  0.3284912\n",
            "Training Alice, Epoch: 11  error:  3.8130587e-08\n",
            "Training Bob, Epoch: 11  error:  9.895302e-10\n",
            "Training Eve, Epoch: 11  error:  0.33184814\n",
            "Training Alice, Epoch: 12  error:  2.3049758e-08\n",
            "Training Bob, Epoch: 12  error:  3.783498e-10\n",
            "Training Eve, Epoch: 12  error:  0.333313\n",
            "Training Alice, Epoch: 13  error:  7.94697e-09\n",
            "Training Bob, Epoch: 13  error:  0.0\n",
            "Training Eve, Epoch: 13  error:  0.33172613\n",
            "Training Alice, Epoch: 14  error:  5.3230558e-09\n",
            "Training Bob, Epoch: 14  error:  0.0\n",
            "Training Eve, Epoch: 14  error:  0.3320923\n",
            "Training Alice, Epoch: 15  error:  4.015204e-09\n",
            "Training Bob, Epoch: 15  error:  0.0\n",
            "Training Eve, Epoch: 15  error:  0.3762207\n",
            "Time taken for Training (seconds):  245.54450225830078\n"
          ]
        },
        {
          "output_type": "display_data",
          "data": {
            "text/plain": [
              "<Figure size 640x480 with 1 Axes>"
            ],
            "image/png": "[encoded data removed]"
          },
          "metadata": {}
        },
        {
          "output_type": "stream",
          "name": "stdout",
          "text": [
            "alice_errors_train =  [0.0005021254, 0.0005860837, 0.0016419843, 0.034017053, 0.01999372, 0.0008766799, 4.196424e-06, 1.563657e-06, 3.1315852e-07, 9.4500336e-08, 3.8130587e-08, 2.3049758e-08, 7.94697e-09, 5.3230558e-09, 4.015204e-09]\n",
            "bob_errors_train =  [0.00026928776, 3.727947e-05, 9.530711e-06, 3.1218005e-06, 8.494608e-07, 2.4515612e-07, 8.291681e-08, 2.6862836e-08, 9.487849e-09, 3.5070116e-09, 9.895302e-10, 3.783498e-10, 0.0, 0.0, 0.0]\n",
            "eve_errors_train =  [0.3349837, 0.33360314, 0.3334459, 0.34765533, 0.3767656, 0.33264187, 0.33294684, 0.33221436, 0.3312378, 0.3284912, 0.33184814, 0.333313, 0.33172613, 0.3320923, 0.3762207]\n"
          ]
        }
      ],
      "source": [
        "import time\n",
        "import tensorflow as tf\n",
        "\n",
        "# If using TensorFlow 2.x, enable v1 compatibility:\n",
        "tf.compat.v1.disable_eager_execution()\n",
        "\n",
        "epochs = 15\n",
        "# Use tf.compat.v1.Session for TensorFlow 1.x compatibility\n",
        "sess = tf.compat.v1.Session()\n",
        "\n",
        "#with tf.Session() as sess:\n",
        "print('Starting Training Process... ')\n",
        "start_time = time.time()\n",
        "train(sess)\n",
        "end_time = time.time()\n",
        "print('Time taken for Training (seconds): ', end_time-start_time)\n",
        "plot_results()\n",
        "\n",
        "print('alice_errors_train = ', alice_errors)\n",
        "print('bob_errors_train = ', bob_errors)\n",
        "print('eve_errors_train = ', eve_errors)\n"
      ]
    },
    {
      "cell_type": "markdown",
      "metadata": {
        "id": "G9TCQl7n6iNS"
      },
      "source": [
        "## Testing"
      ]
    },
    {
      "cell_type": "markdown",
      "metadata": {
        "id": "vGdvj77T6iNS"
      },
      "source": [
        "The above section of the code for training the CNN does not have to be rerun if the user decides to input another message."
      ]
    },
    {
      "cell_type": "code",
      "execution_count": 20,
      "metadata": {
        "jupyter": {
          "outputs_hidden": false
        },
        "colab": {
          "base_uri": "https://localhost:8080/"
        },
        "id": "lEIGUEtO6iNS",
        "outputId": "3998f142-a8dd-4100-891b-bed1160d537b"
      },
      "outputs": [
        {
          "output_type": "stream",
          "name": "stdout",
          "text": [
            "Testing Alice\n",
            "messages = \n",
            " [[0. 1. 0. 0. 1. 0. 0. 0. 0. 1. 1. 0. 1. 0. 0. 1.]\n",
            " [0. 0. 1. 0. 0. 0. 0. 0. 0. 1. 0. 0. 0. 0. 0. 1.]\n",
            " [0. 1. 1. 0. 1. 1. 0. 0. 0. 1. 1. 0. 1. 0. 0. 1.]\n",
            " [0. 1. 1. 0. 0. 0. 1. 1. 0. 1. 1. 0. 0. 1. 0. 1.]]\n",
            "keys = \n",
            " [[0 1 0 1 0 0 1 0 1 1 0 1 1 0 1 0]\n",
            " [0 1 0 1 0 0 1 0 1 0 1 0 0 1 1 1]\n",
            " [1 1 0 0 1 0 1 1 1 0 1 1 0 0 1 0]\n",
            " [1 1 1 1 1 0 1 1 1 0 1 0 0 1 0 1]]\n",
            "plaintext_to_Alice =  [[0. 1. 0. 0. 1. 0. 0. 0. 0. 1. 1. 0. 1. 0. 0. 1.]\n",
            " [0. 0. 1. 0. 0. 0. 0. 0. 0. 1. 0. 0. 0. 0. 0. 1.]\n",
            " [0. 1. 1. 0. 1. 1. 0. 0. 0. 1. 1. 0. 1. 0. 0. 1.]\n",
            " [0. 1. 1. 0. 0. 0. 1. 1. 0. 1. 1. 0. 0. 1. 0. 1.]]\n",
            "test alice_output (Signature) = \n",
            " [[ 0.0000000e+00  1.0000000e+00  0.0000000e+00  0.0000000e+00\n",
            "   1.0000000e+00  0.0000000e+00  0.0000000e+00  0.0000000e+00\n",
            "   0.0000000e+00  1.0000000e+00  1.0000000e+00  0.0000000e+00\n",
            "   1.0000000e+00  0.0000000e+00  0.0000000e+00  1.0000000e+00]\n",
            " [ 0.0000000e+00  0.0000000e+00  1.0000000e+00  0.0000000e+00\n",
            "   0.0000000e+00  0.0000000e+00  0.0000000e+00  0.0000000e+00\n",
            "   0.0000000e+00  1.0000000e+00  0.0000000e+00  0.0000000e+00\n",
            "   0.0000000e+00 -3.7216441e-07  0.0000000e+00  1.0000000e+00]\n",
            " [ 0.0000000e+00  1.0000000e+00  1.0000000e+00  0.0000000e+00\n",
            "   1.0000000e+00  1.0000000e+00  0.0000000e+00 -1.0606332e-06\n",
            "   0.0000000e+00  1.0000000e+00  1.0000000e+00  0.0000000e+00\n",
            "   1.0000000e+00  0.0000000e+00  0.0000000e+00  1.0000000e+00]\n",
            " [ 0.0000000e+00  1.0000000e+00  1.0000000e+00  0.0000000e+00\n",
            "   0.0000000e+00  0.0000000e+00  1.0000000e+00  1.0000000e+00\n",
            "   0.0000000e+00  1.0000000e+00  1.0000000e+00  0.0000000e+00\n",
            "   0.0000000e+00  1.0000000e+00  0.0000000e+00  1.0000000e+00]]\n",
            "SOCK_SEND\n",
            "message =  [[ 0.0000000e+00  1.0000000e+00  0.0000000e+00  0.0000000e+00\n",
            "   1.0000000e+00  0.0000000e+00  0.0000000e+00  0.0000000e+00\n",
            "   0.0000000e+00  1.0000000e+00  1.0000000e+00  0.0000000e+00\n",
            "   1.0000000e+00  0.0000000e+00  0.0000000e+00  1.0000000e+00]\n",
            " [ 0.0000000e+00  0.0000000e+00  1.0000000e+00  0.0000000e+00\n",
            "   0.0000000e+00  0.0000000e+00  0.0000000e+00  0.0000000e+00\n",
            "   0.0000000e+00  1.0000000e+00  0.0000000e+00  0.0000000e+00\n",
            "   0.0000000e+00 -3.7216441e-07  0.0000000e+00  1.0000000e+00]\n",
            " [ 0.0000000e+00  1.0000000e+00  1.0000000e+00  0.0000000e+00\n",
            "   1.0000000e+00  1.0000000e+00  0.0000000e+00 -1.0606332e-06\n",
            "   0.0000000e+00  1.0000000e+00  1.0000000e+00  0.0000000e+00\n",
            "   1.0000000e+00  0.0000000e+00  0.0000000e+00  1.0000000e+00]\n",
            " [ 0.0000000e+00  1.0000000e+00  1.0000000e+00  0.0000000e+00\n",
            "   0.0000000e+00  0.0000000e+00  1.0000000e+00  1.0000000e+00\n",
            "   0.0000000e+00  1.0000000e+00  1.0000000e+00  0.0000000e+00\n",
            "   0.0000000e+00  1.0000000e+00  0.0000000e+00  1.0000000e+00]]\n",
            "alice_errors_test =  2.2387463e-08\n",
            "Testing Bob\n",
            "messages = \n",
            " [[0. 1. 0. 0. 1. 0. 0. 0. 0. 1. 1. 0. 1. 0. 0. 1.]\n",
            " [0. 0. 1. 0. 0. 0. 0. 0. 0. 1. 0. 0. 0. 0. 0. 1.]\n",
            " [0. 1. 1. 0. 1. 1. 0. 0. 0. 1. 1. 0. 1. 0. 0. 1.]\n",
            " [0. 1. 1. 0. 0. 0. 1. 1. 0. 1. 1. 0. 0. 1. 0. 1.]]\n",
            "keys = \n",
            " [[1 0 0 0 1 0 0 1 1 1 1 0 0 0 1 0]\n",
            " [1 0 0 0 1 1 0 1 0 1 0 1 1 1 1 1]\n",
            " [1 0 0 1 1 0 1 1 0 1 1 0 1 0 0 0]\n",
            " [1 1 0 1 0 1 1 1 1 1 1 1 1 1 0 0]]\n",
            "SOCKET_RECV ==== \n",
            "\n",
            "waiting for a connection\n",
            "connection from ('127.0.0.1', 47864)\n",
            "received  [[ 0.0000000e+00  1.0000000e+00  0.0000000e+00  0.0000000e+00\n",
            "   1.0000000e+00  0.0000000e+00  0.0000000e+00  0.0000000e+00\n",
            "   0.0000000e+00  1.0000000e+00  1.0000000e+00  0.0000000e+00\n",
            "   1.0000000e+00  0.0000000e+00  0.0000000e+00  1.0000000e+00]\n",
            " [ 0.0000000e+00  0.0000000e+00  1.0000000e+00  0.0000000e+00\n",
            "   0.0000000e+00  0.0000000e+00  0.0000000e+00  0.0000000e+00\n",
            "   0.0000000e+00  1.0000000e+00  0.0000000e+00  0.0000000e+00\n",
            "   0.0000000e+00 -3.7216441e-07  0.0000000e+00  1.0000000e+00]\n",
            " [ 0.0000000e+00  1.0000000e+00  1.0000000e+00  0.0000000e+00\n",
            "   1.0000000e+00  1.0000000e+00  0.0000000e+00 -1.0606332e-06\n",
            "   0.0000000e+00  1.0000000e+00  1.0000000e+00  0.0000000e+00\n",
            "   1.0000000e+00  0.0000000e+00  0.0000000e+00  1.0000000e+00]\n",
            " [ 0.0000000e+00  1.0000000e+00  1.0000000e+00  0.0000000e+00\n",
            "   0.0000000e+00  0.0000000e+00  1.0000000e+00  1.0000000e+00\n",
            "   0.0000000e+00  1.0000000e+00  1.0000000e+00  0.0000000e+00\n",
            "   0.0000000e+00  1.0000000e+00  0.0000000e+00  1.0000000e+00]]\n",
            "[[ 0.0000000e+00  1.0000000e+00  0.0000000e+00  0.0000000e+00\n",
            "   1.0000000e+00  0.0000000e+00  0.0000000e+00  0.0000000e+00\n",
            "   0.0000000e+00  1.0000000e+00  1.0000000e+00  0.0000000e+00\n",
            "   1.0000000e+00  0.0000000e+00  0.0000000e+00  1.0000000e+00]\n",
            " [ 0.0000000e+00  0.0000000e+00  1.0000000e+00  0.0000000e+00\n",
            "   0.0000000e+00  0.0000000e+00  0.0000000e+00  0.0000000e+00\n",
            "   0.0000000e+00  1.0000000e+00  0.0000000e+00  0.0000000e+00\n",
            "   0.0000000e+00 -3.7216441e-07  0.0000000e+00  1.0000000e+00]\n",
            " [ 0.0000000e+00  1.0000000e+00  1.0000000e+00  0.0000000e+00\n",
            "   1.0000000e+00  1.0000000e+00  0.0000000e+00 -1.0606332e-06\n",
            "   0.0000000e+00  1.0000000e+00  1.0000000e+00  0.0000000e+00\n",
            "   1.0000000e+00  0.0000000e+00  0.0000000e+00  1.0000000e+00]\n",
            " [ 0.0000000e+00  1.0000000e+00  1.0000000e+00  0.0000000e+00\n",
            "   0.0000000e+00  0.0000000e+00  1.0000000e+00  1.0000000e+00\n",
            "   0.0000000e+00  1.0000000e+00  1.0000000e+00  0.0000000e+00\n",
            "   0.0000000e+00  1.0000000e+00  0.0000000e+00  1.0000000e+00]]\n",
            "test bob_input = \n",
            " [[ 0.  1.  0.  0.  1.  0.  0.  0.  0.  1.  1.  0.  1.  0.  0.  1.  1.  0.\n",
            "   0.  0.  1.  0.  0.  1.  1.  1.  1.  0.  0.  0.  1.  0.]\n",
            " [ 0.  0.  1.  0.  0.  0.  0.  0.  0.  1.  0.  0.  0. -0.  0.  1.  1.  0.\n",
            "   0.  0.  1.  1.  0.  1.  0.  1.  0.  1.  1.  1.  1.  1.]\n",
            " [ 0.  1.  1.  0.  1.  1.  0. -0.  0.  1.  1.  0.  1.  0.  0.  1.  1.  0.\n",
            "   0.  1.  1.  0.  1.  1.  0.  1.  1.  0.  1.  0.  0.  0.]\n",
            " [ 0.  1.  1.  0.  0.  0.  1.  1.  0.  1.  1.  0.  0.  1.  0.  1.  1.  1.\n",
            "   0.  1.  0.  1.  1.  1.  1.  1.  1.  1.  1.  1.  0.  0.]]\n",
            "test bob_output = \n",
            " [[0. 1. 0. 0. 1. 0. 0. 0. 0. 1. 1. 0. 1. 0. 0. 1.]\n",
            " [0. 0. 1. 0. 0. 0. 0. 0. 0. 1. 0. 0. 0. 0. 0. 1.]\n",
            " [0. 1. 1. 0. 1. 1. 0. 0. 0. 1. 1. 0. 1. 0. 0. 1.]\n",
            " [0. 1. 1. 0. 0. 0. 1. 1. 0. 1. 1. 0. 0. 1. 0. 1.]]\n",
            "bob_errors_test =  2.2387463e-08\n",
            "Testing Eve\n",
            "messages = \n",
            " [[0. 1. 0. 0. 1. 0. 0. 0. 0. 1. 1. 0. 1. 0. 0. 1.]\n",
            " [0. 0. 1. 0. 0. 0. 0. 0. 0. 1. 0. 0. 0. 0. 0. 1.]\n",
            " [0. 1. 1. 0. 1. 1. 0. 0. 0. 1. 1. 0. 1. 0. 0. 1.]\n",
            " [0. 1. 1. 0. 0. 0. 1. 1. 0. 1. 1. 0. 0. 1. 0. 1.]]\n",
            "keys = \n",
            " [[1 0 1 1 1 1 1 0 0 1 0 1 1 0 0 1]\n",
            " [0 0 0 0 0 0 1 0 1 0 0 0 0 1 0 0]\n",
            " [0 0 0 0 0 1 0 1 0 0 1 0 1 1 1 1]\n",
            " [0 1 0 0 0 0 1 1 1 1 1 0 1 1 1 1]]\n",
            "eve_errors_test =  0.234375\n",
            "Time taken for Testing (seconds):  0.593665599822998\n",
            "Alice Computed Signature*********\n",
            "\tBinary =  0100100001101001001000000100000101101100011010010110001101100101\n",
            "\tHex =  000000000000000000000000000000000000000000000000486920416c696365\n",
            "Bob Computed Signature*********\n",
            "\tBinary =  0100100001101001001000000100000101101100011010010110001101100101\n",
            "\tHex =  000000000000000000000000000000000000000000000000486920416c696365\n",
            "Alice and Bob Signature (32 bytes) Verification SUCCESS!\n"
          ]
        }
      ],
      "source": [
        "import binascii\n",
        "def stringize(data):\n",
        "    b1_temp = np.rint(data)\n",
        "    b1_temp = b1_temp.ravel();\n",
        "    b1_temp = np.abs(b1_temp)\n",
        "    b2_temp  = np.array2string(b1_temp)\n",
        "    b2_temp = b2_temp.strip('[')\n",
        "    b2_temp = b2_temp.strip(']')\n",
        "    b2_temp = b2_temp.replace(\" \", \"\")\n",
        "    b2_temp = b2_temp.replace(\".\", \"\")\n",
        "    b2_temp = b2_temp.replace(\"\\n\", \"\")\n",
        "    print('\\tBinary = ',  b2_temp)\n",
        "    s1 =  ''.join([ \"%x\"%int(bin,2) for bin in b2_temp.split() ])\n",
        "    #Pad for SHA256 (32 Bytes = 64 digits)\n",
        "    s1 = s1.zfill(64)\n",
        "\n",
        "    return s1\n",
        "\n",
        "#Test the Neural Crypto model\n",
        "start_time = time.time()\n",
        "print( 'Testing Alice' )\n",
        "alice_loss_test, alice_sign_time, alice_h2_conv_1,_,_, _, _,_ = test('alice', sess)\n",
        "print('alice_errors_test = ', alice_loss_test)\n",
        "print( 'Testing Bob' )\n",
        "_,_,_,bob_loss_test, bob_sign_time, bob_output_1,bob_h2_conv_1,_ = test('bob', sess)\n",
        "print('bob_errors_test = ', bob_loss_test)\n",
        "print( 'Testing Eve' )\n",
        "_, _,_,_,_,_,_,eve_loss_test = test('eve', sess)\n",
        "print('eve_errors_test = ', eve_loss_test)\n",
        "end_time = time.time()\n",
        "print('Time taken for Testing (seconds): ', end_time-start_time)\n",
        "\n",
        "#print('alice_output_sign=', alice_output_sign)\n",
        "print('Alice Computed Signature*********')\n",
        "alice_sign = stringize(alice_output_sign)\n",
        "print('\\tHex = ', alice_sign)\n",
        "print('Bob Computed Signature*********')\n",
        "bob_sign = stringize(bob_output_1)\n",
        "print('\\tHex = ', bob_sign)\n",
        "\n",
        "if (alice_sign == bob_sign):\n",
        "    print('Alice and Bob Signature (32 bytes) Verification SUCCESS!')\n",
        "else:\n",
        "    print('Alice and Bob Signature (32 bytes) Verification ERROR')\n",
        ""
      ]
    },
    {
      "cell_type": "markdown",
      "metadata": {
        "collapsed": true,
        "jupyter": {
          "outputs_hidden": true
        },
        "id": "Frd4VCAQ6iNS"
      },
      "source": [
        "# Conclusion"
      ]
    },
    {
      "cell_type": "markdown",
      "metadata": {
        "id": "rD9jpL1N6iNS"
      },
      "source": [
        "In this notebook, I have demonstrated the unique capability of neural networks to ensure integrity and authenticity through digital signatures comparable to SHA256.\n",
        "\n",
        "Future work also includes implementing the sockets over Internet Protocol, instead of localhost. In addition, other goals include implementing Eve and her socket as part of the crypto-pipeline and transmitting signatures appended to the plaintext across the sockets. It would also be interesting to inspect if Eve is able to compute the signature of a plaintext message through the Eve_Hidden layer and reach similar results as Bob and Alice.\n",
        "\n"
      ]
    },
    {
      "cell_type": "code",
      "execution_count": null,
      "metadata": {
        "id": "QLkHOq5j6iNS"
      },
      "outputs": [],
      "source": []
    }
  ],
  "metadata": {
    "anaconda-cloud": {},
    "kernelspec": {
      "display_name": "Python 3",
      "name": "python3"
    },
    "language_info": {
      "codemirror_mode": {
        "name": "ipython",
        "version": 3
      },
      "file_extension": ".py",
      "mimetype": "text/x-python",
      "name": "python",
      "nbconvert_exporter": "python",
      "pygments_lexer": "ipython3",
      "version": "3.12.7"
    },
    "colab": {
      "provenance": [],
      "gpuType": "T4"
    },
    "accelerator": "GPU"
  },
  "nbformat": 4,
  "nbformat_minor": 0
}